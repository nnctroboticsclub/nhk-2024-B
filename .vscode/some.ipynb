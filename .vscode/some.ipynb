{
 "cells": [
  {
   "cell_type": "code",
   "execution_count": 25,
   "metadata": {},
   "outputs": [],
   "source": [
    "def calc_freq_in_l_band(ch: int):\n",
    "    return (9206 + 2 * (ch - 24))/10\n",
    "\n",
    "assert calc_freq_in_l_band(24) == 920.6\n",
    "assert calc_freq_in_l_band(60) == 927.8, calc_freq_in_l_band(60)"
   ]
  },
  {
   "cell_type": "code",
   "execution_count": 29,
   "metadata": {},
   "outputs": [
    {
     "name": "stdout",
     "output_type": "stream",
     "text": [
      "\n",
      "Result\n",
      "Channel score: (29, 34, 47)\n",
      "Avoid score: (5, 8, 13) => 520\n",
      "Near score: (5, 13) => 65\n",
      "Total score: 33800\n",
      "\n",
      "Best channels: (29, 34, 47)\n",
      "Ch1: Freq=921.6MHz\n",
      "Ch2: Freq=922.6MHz\n",
      "Ch3: Freq=925.2MHz\n",
      "\n",
      "Distances\n",
      "Distance Ch1 - Ch2: 1.0MHz\n",
      "Distance Ch2 - Ch3: 2.6000000000000227MHz\n",
      "Distance Ch1 - Ch3: 3.6000000000000227MHz\n"
     ]
    }
   ],
   "source": [
    "avoid_1 = 24\n",
    "avoid_2 = 42\n",
    "avoid_3 = 60\n",
    "\n",
    "def calc_dist(ch1, ch2, ch3, show=False):\n",
    "    avoid_score_1 = abs(ch1 - avoid_1)\n",
    "    avoid_score_2 = abs(ch2 - avoid_2)\n",
    "    avoid_score_3 = abs(ch3 - avoid_3)\n",
    "    avoid_score = avoid_score_1 * avoid_score_2 * avoid_score_3\n",
    "\n",
    "    near_score_1 = abs(ch1 - ch2)\n",
    "    near_score_2 = abs(ch2 - ch3)\n",
    "    near_score = near_score_1 * near_score_2\n",
    "\n",
    "    total_score = avoid_score * near_score\n",
    "\n",
    "    if show:\n",
    "        print(f\"Channel score: ({ch1}, {ch2}, {ch3})\")\n",
    "        print(f\"Avoid score: ({avoid_score_1}, {avoid_score_2}, {avoid_score_3}) => {avoid_score}\")\n",
    "        print(f\"Near score: ({near_score_1}, {near_score_2}) => {near_score}\")\n",
    "        print(f\"Total score: {total_score}\")\n",
    "\n",
    "    return total_score\n",
    "\n",
    "best_dist = 0\n",
    "best_ch = (24, 24, 24)\n",
    "for ch1 in range(24, 61):\n",
    "    for ch2 in range(24, 61):\n",
    "        if ch1 >= ch2:\n",
    "            continue\n",
    "        for ch3 in range(24, 61):\n",
    "            if ch2 >= ch3:\n",
    "                continue\n",
    "            dist = calc_dist(ch1, ch2, ch3)\n",
    "            if dist > best_dist:\n",
    "                best_dist = dist\n",
    "                best_ch = (ch1, ch2, ch3)\n",
    "\n",
    "print(\"\\nResult\")\n",
    "calc_dist(*best_ch, show=True)\n",
    "\n",
    "freqs = [calc_freq_in_l_band(ch) for ch in best_ch]\n",
    "\n",
    "print(f\"\\nBest channels: {best_ch}\")\n",
    "print(f\"Ch1: Freq={freqs[0]}MHz\")\n",
    "print(f\"Ch2: Freq={freqs[1]}MHz\")\n",
    "print(f\"Ch3: Freq={freqs[2]}MHz\")\n",
    "\n",
    "print(\"\\nDistances\")\n",
    "print(f\"Distance Ch1 - Ch2: {abs(freqs[0] - freqs[1])}MHz\")\n",
    "print(f\"Distance Ch2 - Ch3: {abs(freqs[1] - freqs[2])}MHz\")\n",
    "print(f\"Distance Ch1 - Ch3: {abs(freqs[0] - freqs[2])}MHz\")\n",
    "\n",
    "None"
   ]
  }
 ],
 "metadata": {
  "kernelspec": {
   "display_name": "Python 3",
   "language": "python",
   "name": "python3"
  },
  "language_info": {
   "codemirror_mode": {
    "name": "ipython",
    "version": 3
   },
   "file_extension": ".py",
   "mimetype": "text/x-python",
   "name": "python",
   "nbconvert_exporter": "python",
   "pygments_lexer": "ipython3",
   "version": "3.10.12"
  }
 },
 "nbformat": 4,
 "nbformat_minor": 2
}
